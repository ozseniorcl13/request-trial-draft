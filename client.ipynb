{
 "cells": [
  {
   "cell_type": "code",
   "execution_count": 2,
   "metadata": {},
   "outputs": [
    {
     "name": "stdout",
     "output_type": "stream",
     "text": [
      "K8sClient connected in cluster by ~/.kube/config\n"
     ]
    }
   ],
   "source": [
    "import os \n",
    "from kubernetes import config\n",
    "\n",
    "class K8sClient():\n",
    "    def __init__(self) -> None:\n",
    "        self.in_cluster = None\n",
    "        \n",
    "    def connect(self, context: str, pathFile: str):\n",
    "        self.in_cluster = None\n",
    "        if self.__is_running_in_k8s():\n",
    "            self.in_cluster = True\n",
    "            print(\"K8sClient connected in cluster\")\n",
    "        else:\n",
    "            config.load_kube_config(\n",
    "                config_file = pathFile,\n",
    "                context = context,\n",
    "                client_configuration = None,\n",
    "                persist_config = None \n",
    "            )\n",
    "            self.in_cluster = False\n",
    "            print(f\"K8sClient connected in cluster by {pathFile}\")\n",
    "        \n",
    "    def __is_running_in_k8s(self):\n",
    "        return os.path.isdir(\"/var/run/secrets/kubernetes.io/\")\n",
    "    \n",
    "client = K8sClient()\n",
    "client.connect(\n",
    "    context=os.environ.get(\"KUBE_CONFIG_DEFAULT_CONTEXT\", \"minikube\"),\n",
    "    pathFile=os.environ.get(\"KUBE_CONFIG_DEFAULT_LOCATION\", \"~/.kube/config\")                        \n",
    ")"
   ]
  },
  {
   "cell_type": "code",
   "execution_count": 6,
   "metadata": {},
   "outputs": [
    {
     "name": "stdout",
     "output_type": "stream",
     "text": [
      "['training-container', 'istio-proxy', 'metrics-logger-and-collector']\n"
     ]
    }
   ],
   "source": [
    "from kubernetes import client\n",
    "\n",
    "# Criar um objeto da API do Kubernetes\n",
    "api = client.CoreV1Api()\n",
    "\n",
    "# Obter informações sobre o pod\n",
    "namespace = \"kubeflow-user-example-com\"  # Namespace do Katib\n",
    "pod_name = 'train-api-stop-experiment-l7tjsptg-f4bmb'\n",
    "\n",
    "pod = api.read_namespaced_pod(pod_name, namespace)\n",
    "\n",
    "# Listar os nomes dos contêineres no pod\n",
    "container_names = [c.name for c in pod.spec.containers]\n",
    "print(container_names)"
   ]
  },
  {
   "cell_type": "code",
   "execution_count": 5,
   "metadata": {},
   "outputs": [
    {
     "ename": "ApiException",
     "evalue": "(400)\nReason: Bad Request\nHTTP response headers: HTTPHeaderDict({'Audit-Id': '32d7568e-f9ea-4c36-a5cf-90f37c6430f6', 'Cache-Control': 'no-cache, private', 'Content-Type': 'application/json', 'Date': 'Fri, 26 May 2023 02:23:22 GMT', 'Content-Length': '139'})\nHTTP response body: {\"kind\":\"Status\",\"apiVersion\":\"v1\",\"metadata\":{},\"status\":\"Failure\",\"message\":\"Upgrade request required\",\"reason\":\"BadRequest\",\"code\":400}\n\n",
     "output_type": "error",
     "traceback": [
      "\u001b[0;31m---------------------------------------------------------------------------\u001b[0m",
      "\u001b[0;31mApiException\u001b[0m                              Traceback (most recent call last)",
      "Cell \u001b[0;32mIn[5], line 11\u001b[0m\n\u001b[1;32m      8\u001b[0m pod_name \u001b[39m=\u001b[39m \u001b[39m'\u001b[39m\u001b[39mtrain-api-stop-experiment-l7tjsptg-92xfd\u001b[39m\u001b[39m'\u001b[39m\n\u001b[1;32m      9\u001b[0m container \u001b[39m=\u001b[39m \u001b[39m'\u001b[39m\u001b[39mmetrics-logger-and-collector\u001b[39m\u001b[39m'\u001b[39m\n\u001b[0;32m---> 11\u001b[0m api_response \u001b[39m=\u001b[39m api\u001b[39m.\u001b[39;49mconnect_get_namespaced_pod_exec(\n\u001b[1;32m     12\u001b[0m         name\u001b[39m=\u001b[39;49mpod_name,\n\u001b[1;32m     13\u001b[0m         namespace\u001b[39m=\u001b[39;49mnamespace,\n\u001b[1;32m     14\u001b[0m         container\u001b[39m=\u001b[39;49mcontainer,\n\u001b[1;32m     15\u001b[0m         command\u001b[39m=\u001b[39;49m[\u001b[39m\"\u001b[39;49m\u001b[39mcurl\u001b[39;49m\u001b[39m\"\u001b[39;49m, \u001b[39m\"\u001b[39;49m\u001b[39mhttp://localhost:5000/\u001b[39;49m\u001b[39m\"\u001b[39;49m]\n\u001b[1;32m     16\u001b[0m     )\n\u001b[1;32m     18\u001b[0m \u001b[39m# Ler a resposta da API do trial\u001b[39;00m\n\u001b[1;32m     19\u001b[0m response_data \u001b[39m=\u001b[39m api_response\u001b[39m.\u001b[39mread_stdout()\n",
      "File \u001b[0;32m~/git/poc/venv/lib/python3.10/site-packages/kubernetes/client/api/core_v1_api.py:994\u001b[0m, in \u001b[0;36mCoreV1Api.connect_get_namespaced_pod_exec\u001b[0;34m(self, name, namespace, **kwargs)\u001b[0m\n\u001b[1;32m    965\u001b[0m \u001b[39m\u001b[39m\u001b[39m\"\"\"connect_get_namespaced_pod_exec  # noqa: E501\u001b[39;00m\n\u001b[1;32m    966\u001b[0m \n\u001b[1;32m    967\u001b[0m \u001b[39mconnect GET requests to exec of Pod  # noqa: E501\u001b[39;00m\n\u001b[0;32m   (...)\u001b[0m\n\u001b[1;32m    991\u001b[0m \u001b[39m         returns the request thread.\u001b[39;00m\n\u001b[1;32m    992\u001b[0m \u001b[39m\"\"\"\u001b[39;00m\n\u001b[1;32m    993\u001b[0m kwargs[\u001b[39m'\u001b[39m\u001b[39m_return_http_data_only\u001b[39m\u001b[39m'\u001b[39m] \u001b[39m=\u001b[39m \u001b[39mTrue\u001b[39;00m\n\u001b[0;32m--> 994\u001b[0m \u001b[39mreturn\u001b[39;00m \u001b[39mself\u001b[39;49m\u001b[39m.\u001b[39;49mconnect_get_namespaced_pod_exec_with_http_info(name, namespace, \u001b[39m*\u001b[39;49m\u001b[39m*\u001b[39;49mkwargs)\n",
      "File \u001b[0;32m~/git/poc/venv/lib/python3.10/site-packages/kubernetes/client/api/core_v1_api.py:1101\u001b[0m, in \u001b[0;36mCoreV1Api.connect_get_namespaced_pod_exec_with_http_info\u001b[0;34m(self, name, namespace, **kwargs)\u001b[0m\n\u001b[1;32m   1098\u001b[0m \u001b[39m# Authentication setting\u001b[39;00m\n\u001b[1;32m   1099\u001b[0m auth_settings \u001b[39m=\u001b[39m [\u001b[39m'\u001b[39m\u001b[39mBearerToken\u001b[39m\u001b[39m'\u001b[39m]  \u001b[39m# noqa: E501\u001b[39;00m\n\u001b[0;32m-> 1101\u001b[0m \u001b[39mreturn\u001b[39;00m \u001b[39mself\u001b[39;49m\u001b[39m.\u001b[39;49mapi_client\u001b[39m.\u001b[39;49mcall_api(\n\u001b[1;32m   1102\u001b[0m     \u001b[39m'\u001b[39;49m\u001b[39m/api/v1/namespaces/\u001b[39;49m\u001b[39m{namespace}\u001b[39;49;00m\u001b[39m/pods/\u001b[39;49m\u001b[39m{name}\u001b[39;49;00m\u001b[39m/exec\u001b[39;49m\u001b[39m'\u001b[39;49m, \u001b[39m'\u001b[39;49m\u001b[39mGET\u001b[39;49m\u001b[39m'\u001b[39;49m,\n\u001b[1;32m   1103\u001b[0m     path_params,\n\u001b[1;32m   1104\u001b[0m     query_params,\n\u001b[1;32m   1105\u001b[0m     header_params,\n\u001b[1;32m   1106\u001b[0m     body\u001b[39m=\u001b[39;49mbody_params,\n\u001b[1;32m   1107\u001b[0m     post_params\u001b[39m=\u001b[39;49mform_params,\n\u001b[1;32m   1108\u001b[0m     files\u001b[39m=\u001b[39;49mlocal_var_files,\n\u001b[1;32m   1109\u001b[0m     response_type\u001b[39m=\u001b[39;49m\u001b[39m'\u001b[39;49m\u001b[39mstr\u001b[39;49m\u001b[39m'\u001b[39;49m,  \u001b[39m# noqa: E501\u001b[39;49;00m\n\u001b[1;32m   1110\u001b[0m     auth_settings\u001b[39m=\u001b[39;49mauth_settings,\n\u001b[1;32m   1111\u001b[0m     async_req\u001b[39m=\u001b[39;49mlocal_var_params\u001b[39m.\u001b[39;49mget(\u001b[39m'\u001b[39;49m\u001b[39masync_req\u001b[39;49m\u001b[39m'\u001b[39;49m),\n\u001b[1;32m   1112\u001b[0m     _return_http_data_only\u001b[39m=\u001b[39;49mlocal_var_params\u001b[39m.\u001b[39;49mget(\u001b[39m'\u001b[39;49m\u001b[39m_return_http_data_only\u001b[39;49m\u001b[39m'\u001b[39;49m),  \u001b[39m# noqa: E501\u001b[39;49;00m\n\u001b[1;32m   1113\u001b[0m     _preload_content\u001b[39m=\u001b[39;49mlocal_var_params\u001b[39m.\u001b[39;49mget(\u001b[39m'\u001b[39;49m\u001b[39m_preload_content\u001b[39;49m\u001b[39m'\u001b[39;49m, \u001b[39mTrue\u001b[39;49;00m),\n\u001b[1;32m   1114\u001b[0m     _request_timeout\u001b[39m=\u001b[39;49mlocal_var_params\u001b[39m.\u001b[39;49mget(\u001b[39m'\u001b[39;49m\u001b[39m_request_timeout\u001b[39;49m\u001b[39m'\u001b[39;49m),\n\u001b[1;32m   1115\u001b[0m     collection_formats\u001b[39m=\u001b[39;49mcollection_formats)\n",
      "File \u001b[0;32m~/git/poc/venv/lib/python3.10/site-packages/kubernetes/client/api_client.py:348\u001b[0m, in \u001b[0;36mApiClient.call_api\u001b[0;34m(self, resource_path, method, path_params, query_params, header_params, body, post_params, files, response_type, auth_settings, async_req, _return_http_data_only, collection_formats, _preload_content, _request_timeout, _host)\u001b[0m\n\u001b[1;32m    311\u001b[0m \u001b[39m\u001b[39m\u001b[39m\"\"\"Makes the HTTP request (synchronous) and returns deserialized data.\u001b[39;00m\n\u001b[1;32m    312\u001b[0m \n\u001b[1;32m    313\u001b[0m \u001b[39mTo make an async_req request, set the async_req parameter.\u001b[39;00m\n\u001b[0;32m   (...)\u001b[0m\n\u001b[1;32m    345\u001b[0m \u001b[39m    then the method will return the response directly.\u001b[39;00m\n\u001b[1;32m    346\u001b[0m \u001b[39m\"\"\"\u001b[39;00m\n\u001b[1;32m    347\u001b[0m \u001b[39mif\u001b[39;00m \u001b[39mnot\u001b[39;00m async_req:\n\u001b[0;32m--> 348\u001b[0m     \u001b[39mreturn\u001b[39;00m \u001b[39mself\u001b[39;49m\u001b[39m.\u001b[39;49m__call_api(resource_path, method,\n\u001b[1;32m    349\u001b[0m                            path_params, query_params, header_params,\n\u001b[1;32m    350\u001b[0m                            body, post_params, files,\n\u001b[1;32m    351\u001b[0m                            response_type, auth_settings,\n\u001b[1;32m    352\u001b[0m                            _return_http_data_only, collection_formats,\n\u001b[1;32m    353\u001b[0m                            _preload_content, _request_timeout, _host)\n\u001b[1;32m    355\u001b[0m \u001b[39mreturn\u001b[39;00m \u001b[39mself\u001b[39m\u001b[39m.\u001b[39mpool\u001b[39m.\u001b[39mapply_async(\u001b[39mself\u001b[39m\u001b[39m.\u001b[39m__call_api, (resource_path,\n\u001b[1;32m    356\u001b[0m                                                method, path_params,\n\u001b[1;32m    357\u001b[0m                                                query_params,\n\u001b[0;32m   (...)\u001b[0m\n\u001b[1;32m    365\u001b[0m                                                _request_timeout,\n\u001b[1;32m    366\u001b[0m                                                _host))\n",
      "File \u001b[0;32m~/git/poc/venv/lib/python3.10/site-packages/kubernetes/client/api_client.py:180\u001b[0m, in \u001b[0;36mApiClient.__call_api\u001b[0;34m(self, resource_path, method, path_params, query_params, header_params, body, post_params, files, response_type, auth_settings, _return_http_data_only, collection_formats, _preload_content, _request_timeout, _host)\u001b[0m\n\u001b[1;32m    177\u001b[0m     url \u001b[39m=\u001b[39m _host \u001b[39m+\u001b[39m resource_path\n\u001b[1;32m    179\u001b[0m \u001b[39m# perform request and return response\u001b[39;00m\n\u001b[0;32m--> 180\u001b[0m response_data \u001b[39m=\u001b[39m \u001b[39mself\u001b[39;49m\u001b[39m.\u001b[39;49mrequest(\n\u001b[1;32m    181\u001b[0m     method, url, query_params\u001b[39m=\u001b[39;49mquery_params, headers\u001b[39m=\u001b[39;49mheader_params,\n\u001b[1;32m    182\u001b[0m     post_params\u001b[39m=\u001b[39;49mpost_params, body\u001b[39m=\u001b[39;49mbody,\n\u001b[1;32m    183\u001b[0m     _preload_content\u001b[39m=\u001b[39;49m_preload_content,\n\u001b[1;32m    184\u001b[0m     _request_timeout\u001b[39m=\u001b[39;49m_request_timeout)\n\u001b[1;32m    186\u001b[0m \u001b[39mself\u001b[39m\u001b[39m.\u001b[39mlast_response \u001b[39m=\u001b[39m response_data\n\u001b[1;32m    188\u001b[0m return_data \u001b[39m=\u001b[39m response_data\n",
      "File \u001b[0;32m~/git/poc/venv/lib/python3.10/site-packages/kubernetes/client/api_client.py:373\u001b[0m, in \u001b[0;36mApiClient.request\u001b[0;34m(self, method, url, query_params, headers, post_params, body, _preload_content, _request_timeout)\u001b[0m\n\u001b[1;32m    371\u001b[0m \u001b[39m\u001b[39m\u001b[39m\"\"\"Makes the HTTP request using RESTClient.\"\"\"\u001b[39;00m\n\u001b[1;32m    372\u001b[0m \u001b[39mif\u001b[39;00m method \u001b[39m==\u001b[39m \u001b[39m\"\u001b[39m\u001b[39mGET\u001b[39m\u001b[39m\"\u001b[39m:\n\u001b[0;32m--> 373\u001b[0m     \u001b[39mreturn\u001b[39;00m \u001b[39mself\u001b[39;49m\u001b[39m.\u001b[39;49mrest_client\u001b[39m.\u001b[39;49mGET(url,\n\u001b[1;32m    374\u001b[0m                                 query_params\u001b[39m=\u001b[39;49mquery_params,\n\u001b[1;32m    375\u001b[0m                                 _preload_content\u001b[39m=\u001b[39;49m_preload_content,\n\u001b[1;32m    376\u001b[0m                                 _request_timeout\u001b[39m=\u001b[39;49m_request_timeout,\n\u001b[1;32m    377\u001b[0m                                 headers\u001b[39m=\u001b[39;49mheaders)\n\u001b[1;32m    378\u001b[0m \u001b[39melif\u001b[39;00m method \u001b[39m==\u001b[39m \u001b[39m\"\u001b[39m\u001b[39mHEAD\u001b[39m\u001b[39m\"\u001b[39m:\n\u001b[1;32m    379\u001b[0m     \u001b[39mreturn\u001b[39;00m \u001b[39mself\u001b[39m\u001b[39m.\u001b[39mrest_client\u001b[39m.\u001b[39mHEAD(url,\n\u001b[1;32m    380\u001b[0m                                  query_params\u001b[39m=\u001b[39mquery_params,\n\u001b[1;32m    381\u001b[0m                                  _preload_content\u001b[39m=\u001b[39m_preload_content,\n\u001b[1;32m    382\u001b[0m                                  _request_timeout\u001b[39m=\u001b[39m_request_timeout,\n\u001b[1;32m    383\u001b[0m                                  headers\u001b[39m=\u001b[39mheaders)\n",
      "File \u001b[0;32m~/git/poc/venv/lib/python3.10/site-packages/kubernetes/client/rest.py:241\u001b[0m, in \u001b[0;36mRESTClientObject.GET\u001b[0;34m(self, url, headers, query_params, _preload_content, _request_timeout)\u001b[0m\n\u001b[1;32m    239\u001b[0m \u001b[39mdef\u001b[39;00m \u001b[39mGET\u001b[39m(\u001b[39mself\u001b[39m, url, headers\u001b[39m=\u001b[39m\u001b[39mNone\u001b[39;00m, query_params\u001b[39m=\u001b[39m\u001b[39mNone\u001b[39;00m, _preload_content\u001b[39m=\u001b[39m\u001b[39mTrue\u001b[39;00m,\n\u001b[1;32m    240\u001b[0m         _request_timeout\u001b[39m=\u001b[39m\u001b[39mNone\u001b[39;00m):\n\u001b[0;32m--> 241\u001b[0m     \u001b[39mreturn\u001b[39;00m \u001b[39mself\u001b[39;49m\u001b[39m.\u001b[39;49mrequest(\u001b[39m\"\u001b[39;49m\u001b[39mGET\u001b[39;49m\u001b[39m\"\u001b[39;49m, url,\n\u001b[1;32m    242\u001b[0m                         headers\u001b[39m=\u001b[39;49mheaders,\n\u001b[1;32m    243\u001b[0m                         _preload_content\u001b[39m=\u001b[39;49m_preload_content,\n\u001b[1;32m    244\u001b[0m                         _request_timeout\u001b[39m=\u001b[39;49m_request_timeout,\n\u001b[1;32m    245\u001b[0m                         query_params\u001b[39m=\u001b[39;49mquery_params)\n",
      "File \u001b[0;32m~/git/poc/venv/lib/python3.10/site-packages/kubernetes/client/rest.py:235\u001b[0m, in \u001b[0;36mRESTClientObject.request\u001b[0;34m(self, method, url, query_params, headers, body, post_params, _preload_content, _request_timeout)\u001b[0m\n\u001b[1;32m    232\u001b[0m     logger\u001b[39m.\u001b[39mdebug(\u001b[39m\"\u001b[39m\u001b[39mresponse body: \u001b[39m\u001b[39m%s\u001b[39;00m\u001b[39m\"\u001b[39m, r\u001b[39m.\u001b[39mdata)\n\u001b[1;32m    234\u001b[0m \u001b[39mif\u001b[39;00m \u001b[39mnot\u001b[39;00m \u001b[39m200\u001b[39m \u001b[39m<\u001b[39m\u001b[39m=\u001b[39m r\u001b[39m.\u001b[39mstatus \u001b[39m<\u001b[39m\u001b[39m=\u001b[39m \u001b[39m299\u001b[39m:\n\u001b[0;32m--> 235\u001b[0m     \u001b[39mraise\u001b[39;00m ApiException(http_resp\u001b[39m=\u001b[39mr)\n\u001b[1;32m    237\u001b[0m \u001b[39mreturn\u001b[39;00m r\n",
      "\u001b[0;31mApiException\u001b[0m: (400)\nReason: Bad Request\nHTTP response headers: HTTPHeaderDict({'Audit-Id': '32d7568e-f9ea-4c36-a5cf-90f37c6430f6', 'Cache-Control': 'no-cache, private', 'Content-Type': 'application/json', 'Date': 'Fri, 26 May 2023 02:23:22 GMT', 'Content-Length': '139'})\nHTTP response body: {\"kind\":\"Status\",\"apiVersion\":\"v1\",\"metadata\":{},\"status\":\"Failure\",\"message\":\"Upgrade request required\",\"reason\":\"BadRequest\",\"code\":400}\n\n"
     ]
    }
   ],
   "source": [
    "from kubernetes import client\n",
    "\n",
    "# Criar um objeto da API do Kubernetes\n",
    "api = client.CoreV1Api()\n",
    "\n",
    "# Obter informações sobre os pods em execução\n",
    "namespace = \"kubeflow-user-example-com\"  # Namespace do Katib\n",
    "pod_name = 'train-api-stop-experiment-l7tjsptg-92xfd'\n",
    "container = 'metrics-logger-and-collector'\n",
    "\n",
    "api_response = api.connect_get_namespaced_pod_exec(\n",
    "        name=pod_name,\n",
    "        namespace=namespace,\n",
    "        container=container,\n",
    "        command=[\"wget\", \"-O-\", \"http://localhost:5000/\"]\n",
    "    )\n",
    "\n",
    "# Ler a resposta da API do trial\n",
    "response_data = api_response.read_stdout()\n",
    "print(f\"Response from trial {pod_name}: {response_data}\")\n",
    "\n",
    "\n",
    "# Iterar sobre os pods e interagir com cada um deles\n",
    "'''\n",
    "for pod in pods.items:\n",
    "    pod_name = pod.metadata.name\n",
    "    container_name = pod.spec.containers[0].name  # Supondo apenas um contêiner no pod\n",
    "    \n",
    "    print(container_name)\n",
    "\n",
    "    # Enviar uma solicitação para a API do trial\n",
    "    # Exemplo: Enviar uma solicitação GET para o endpoint \"/predict\" do contêiner\n",
    "    \n",
    "    api_response = api.connect_get_namespaced_pod_exec(\n",
    "        name=train-api-stop-experiment-l7tjsptg-f4bmb,\n",
    "        namespace=namespace,\n",
    "        command=[\"curl\", \"http://localhost:5000/\"]\n",
    "    )\n",
    "\n",
    "    # Ler a resposta da API do trial\n",
    "    response_data = api_response.read_stdout()\n",
    "    print(f\"Response from trial {pod_name}: {response_data}\")\n",
    "'''"
   ]
  },
  {
   "cell_type": "code",
   "execution_count": null,
   "metadata": {},
   "outputs": [],
   "source": []
  }
 ],
 "metadata": {
  "kernelspec": {
   "display_name": "Python 3 (ipykernel)",
   "language": "python",
   "name": "python3"
  },
  "language_info": {
   "codemirror_mode": {
    "name": "ipython",
    "version": 3
   },
   "file_extension": ".py",
   "mimetype": "text/x-python",
   "name": "python",
   "nbconvert_exporter": "python",
   "pygments_lexer": "ipython3",
   "version": "3.10.6"
  },
  "orig_nbformat": 4
 },
 "nbformat": 4,
 "nbformat_minor": 2
}
